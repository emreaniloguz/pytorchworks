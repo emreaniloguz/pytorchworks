{
 "cells": [
  {
   "cell_type": "code",
   "execution_count": 64,
   "source": [
    "import torch\r\n",
    "import torch.nn as nn\r\n",
    "import torch\r\n",
    "import torchvision # torch package for vision related things\r\n",
    "import torch.nn.functional as F  # Parameterless functions, like (some) activation functions\r\n",
    "import torchvision.datasets as datasets  # Standard datasets\r\n",
    "import torchvision.transforms as transforms  # Transformations we can perform on our dataset for augmentation\r\n",
    "from torch import optim  # For optimizers like SGD, Adam, etc.\r\n",
    "from torch import nn  # All neural network modules\r\n",
    "from torch.utils.data import DataLoader  # Gives easier dataset managment by creating mini batches etc.\r\n",
    "from tqdm import tqdm  # For nice progress bar!\r\n",
    "\r\n",
    "# 1x32x32 input --> (5x5) kernel with stride (1,1)\r\n",
    "# 6x28x28 input --> avg poll with stride(2,2)\r\n",
    "# 6x14x14 input --> (5x5) kernel with stride(1,1)\r\n",
    "# 16x1010 input --> avg pool with stride(2,2)\r\n",
    "\r\n",
    "#Conv 5x5 to 120 channels x Linear 120 -> 84x Liner 10\r\n",
    "\r\n",
    "\r\n"
   ],
   "outputs": [],
   "metadata": {}
  },
  {
   "cell_type": "code",
   "execution_count": 65,
   "source": [
    "class LeNet(nn.Module):\r\n",
    "    def __init__(self):\r\n",
    "        super(LeNet,self).__init__()\r\n",
    "        self.relu = nn.ReLU()\r\n",
    "        \r\n",
    "        self.pool = nn.AvgPool2d(kernel_size=(2,2),stride=(2,2))\r\n",
    "        \r\n",
    "        self.conv1 = nn.Conv2d(in_channels=1, out_channels=6,kernel_size=(5,5), stride=(1, 1), padding=(2,2))\r\n",
    "        self.conv2 = nn.Conv2d(in_channels=6, out_channels=16,kernel_size=(5,5), stride=(1, 1), padding=(0,0))\r\n",
    "        self.conv3 = nn.Conv2d(in_channels=16, out_channels=120,kernel_size=(5,5), stride=(1, 1), padding=(0,0))\r\n",
    "        self.linear1 = nn.Linear(120,84)\r\n",
    "        self.linear2 = nn.Linear(84,10)\r\n",
    "        \r\n",
    "    def forward(self,x):\r\n",
    "\r\n",
    "        x = self.relu(self.conv1(x))\r\n",
    "        x = self.pool(x)\r\n",
    "        x = self.relu(self.conv2(x))\r\n",
    "        x = self.pool(x)\r\n",
    "        x = self.relu(self.conv3(x))\r\n",
    "        x = x.reshape(x.shape[0],-1)\r\n",
    "        x = self.relu(self.linear1(x))\r\n",
    "        x = self.linear2(x)\r\n",
    "        return x\r\n",
    "    \r\n",
    "#x = torch.randn(64,1,32,32)\r\n",
    "#model = LeNet()\r\n",
    "#print(model(x).shape)"
   ],
   "outputs": [],
   "metadata": {}
  },
  {
   "cell_type": "code",
   "execution_count": 66,
   "source": [
    "device = torch.device(\"cuda\" if torch.cuda.is_available() else \"cpu\")\r\n",
    "input_size = 28\r\n",
    "sequence_length = 28\r\n",
    "num_layers = 2\r\n",
    "hidden_size =256\r\n",
    "in_channels = 1\r\n",
    "num_classes = 10\r\n",
    "learning_rate = 0.001\r\n",
    "batch_size = 64\r\n",
    "num_epochs = 3"
   ],
   "outputs": [],
   "metadata": {}
  },
  {
   "cell_type": "code",
   "execution_count": 67,
   "source": [
    "train_dataset = datasets.MNIST(root=\"dataset/\", train=True, transform=transforms.ToTensor(), download=True)\r\n",
    "test_dataset = datasets.MNIST(root=\"dataset/\", train=False, transform=transforms.ToTensor(), download=True)\r\n",
    "train_loader = DataLoader(dataset=train_dataset, batch_size=batch_size, shuffle=True)\r\n",
    "test_loader = DataLoader(dataset=test_dataset, batch_size=batch_size, shuffle=True)\r\n",
    "\r\n",
    "# Initialize network\r\n",
    "model = LeNet().to(device)"
   ],
   "outputs": [],
   "metadata": {}
  },
  {
   "cell_type": "code",
   "execution_count": 68,
   "source": [
    "criterion = nn.CrossEntropyLoss()\r\n",
    "optimizer = optim.Adam(model.parameters(), lr=learning_rate)\r\n",
    "\r\n",
    "# Train Network\r\n",
    "for epoch in range(num_epochs):\r\n",
    "    for batch_idx, (data, targets) in enumerate(tqdm(train_loader)):\r\n",
    "        # Get data to cuda if possible\r\n",
    "        data = data.to(device=device)\r\n",
    "        targets = targets.to(device=device)\r\n",
    "\r\n",
    "        # forward\r\n",
    "        #data = data.reshape(data.shape[0],-1)\r\n",
    "        scores = model(data)\r\n",
    "        loss = criterion(scores, targets)\r\n",
    "\r\n",
    "        # backward\r\n",
    "        optimizer.zero_grad()\r\n",
    "        loss.backward()\r\n",
    "\r\n",
    "        # gradient descent or adam step\r\n",
    "        optimizer.step()\r\n",
    "\r\n",
    "# Check accuracy on training & test to see how good our model\r\n",
    "def check_accuracy(loader, model):\r\n",
    "    num_correct = 0\r\n",
    "    num_samples = 0\r\n",
    "    model.eval()\r\n",
    "\r\n",
    "    with torch.no_grad():\r\n",
    "        for x, y in loader:\r\n",
    "            x = x.to(device=device)\r\n",
    "            y = y.to(device=device)\r\n",
    "\r\n",
    "            scores = model(x)\r\n",
    "            _, predictions = scores.max(1)\r\n",
    "            num_correct += (predictions == y).sum()\r\n",
    "            num_samples += predictions.size(0)\r\n",
    "\r\n",
    "\r\n",
    "    model.train()\r\n",
    "    return num_correct/num_samples\r\n",
    "\r\n",
    "\r\n",
    "print(f\"Accuracy on training set: {check_accuracy(train_loader, model)*100:.2f}\")\r\n",
    "print(f\"Accuracy on test set: {check_accuracy(test_loader, model)*100:.2f}\")"
   ],
   "outputs": [
    {
     "output_type": "stream",
     "name": "stderr",
     "text": [
      "100%|██████████| 938/938 [00:09<00:00, 100.21it/s]\n",
      "100%|██████████| 938/938 [00:08<00:00, 112.99it/s]\n",
      "100%|██████████| 938/938 [00:08<00:00, 115.06it/s]\n"
     ]
    },
    {
     "output_type": "stream",
     "name": "stdout",
     "text": [
      "Accuracy on training set: 98.28\n",
      "Accuracy on test set: 98.05\n"
     ]
    }
   ],
   "metadata": {}
  }
 ],
 "metadata": {
  "orig_nbformat": 4,
  "language_info": {
   "name": "python",
   "version": "3.8.8",
   "mimetype": "text/x-python",
   "codemirror_mode": {
    "name": "ipython",
    "version": 3
   },
   "pygments_lexer": "ipython3",
   "nbconvert_exporter": "python",
   "file_extension": ".py"
  },
  "kernelspec": {
   "name": "python3",
   "display_name": "Python 3.8.8 64-bit ('base': conda)"
  },
  "interpreter": {
   "hash": "75a30548fdf3dbc5d56c450174bec395510dfa79d754af80d480ee316ccf8c82"
  }
 },
 "nbformat": 4,
 "nbformat_minor": 2
}