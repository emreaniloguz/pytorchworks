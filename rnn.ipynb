{
 "cells": [
  {
   "cell_type": "code",
   "execution_count": 16,
   "source": [
    "import torch\r\n",
    "import torchvision # torch package for vision related things\r\n",
    "import torch.nn.functional as F  # Parameterless functions, like (some) activation functions\r\n",
    "import torchvision.datasets as datasets  # Standard datasets\r\n",
    "import torchvision.transforms as transforms  # Transformations we can perform on our dataset for augmentation\r\n",
    "from torch import optim  # For optimizers like SGD, Adam, etc.\r\n",
    "from torch import nn  # All neural network modules\r\n",
    "from torch.utils.data import DataLoader  # Gives easier dataset managment by creating mini batches etc.\r\n",
    "from tqdm import tqdm  # For nice progress bar!"
   ],
   "outputs": [],
   "metadata": {}
  },
  {
   "cell_type": "code",
   "execution_count": 17,
   "source": [
    "#SET CUDA\r\n",
    "\r\n",
    "device = torch.device(\"cuda\" if torch.cuda.is_available() else \"cpu\")\r\n",
    "\r\n",
    "# Hyperparameters\r\n",
    "input_size = 28\r\n",
    "sequence_length = 28\r\n",
    "num_layers = 2\r\n",
    "hidden_size =256\r\n",
    "in_channels = 1\r\n",
    "num_classes = 10\r\n",
    "learning_rate = 0.001\r\n",
    "batch_size = 64\r\n",
    "num_epochs = 3"
   ],
   "outputs": [],
   "metadata": {}
  },
  {
   "cell_type": "code",
   "execution_count": 18,
   "source": [
    "class RNN(nn.Module):\r\n",
    "    def __init__(self,input_size,hidden_size,num_layers, num_classes):\r\n",
    "        super(RNN,self).__init__()\r\n",
    "        self.hidden_size = hidden_size\r\n",
    "        self.num_layers = num_layers\r\n",
    "        self.rnn= nn.LSTM(input_size,hidden_size,num_layers,batch_first = True)\r\n",
    "        \r\n",
    "        \r\n",
    "        #Nxtime_seqxfeatures\r\n",
    "        \r\n",
    "        self.fc = nn.Linear(hidden_size*sequence_length,num_classes)\r\n",
    "        \r\n",
    "    \r\n",
    "    def forward(self,x):\r\n",
    "        \r\n",
    "        h0 = torch.zeros(self.num_layers, x.size(0),self.hidden_size).to(device)\r\n",
    "        c0 = torch.zeros(self.num_layers, x.size(0), self.hidden_size).to(device)\r\n",
    "        \r\n",
    "        \r\n",
    "        #forward prop\r\n",
    "        \r\n",
    "        out, _ = self.rnn(x,(h0,c0))\r\n",
    "        out = out.reshape(out.shape[0],-1)\r\n",
    "        out = self.fc(out)\r\n",
    "        \r\n",
    "        return out"
   ],
   "outputs": [],
   "metadata": {}
  },
  {
   "cell_type": "code",
   "execution_count": 19,
   "source": [
    "train_dataset = datasets.MNIST(root=\"dataset/\", train=True, transform=transforms.ToTensor(), download=True)\r\n",
    "test_dataset = datasets.MNIST(root=\"dataset/\", train=False, transform=transforms.ToTensor(), download=True)\r\n",
    "train_loader = DataLoader(dataset=train_dataset, batch_size=batch_size, shuffle=True)\r\n",
    "test_loader = DataLoader(dataset=test_dataset, batch_size=batch_size, shuffle=True)\r\n",
    "\r\n",
    "# Initialize network\r\n",
    "model = RNN(input_size,hidden_size,num_layers, num_classes).to(device)"
   ],
   "outputs": [],
   "metadata": {}
  },
  {
   "cell_type": "code",
   "execution_count": 20,
   "source": [
    "criterion = nn.CrossEntropyLoss()\r\n",
    "optimizer = optim.Adam(model.parameters(), lr=learning_rate)\r\n",
    "\r\n",
    "# Train Network\r\n",
    "for epoch in range(num_epochs):\r\n",
    "    for batch_idx, (data, targets) in enumerate(tqdm(train_loader)):\r\n",
    "        # Get data to cuda if possible\r\n",
    "        data = data.to(device=device).squeeze(1)\r\n",
    "        targets = targets.to(device=device)\r\n",
    "\r\n",
    "        # forward\r\n",
    "        scores = model(data)\r\n",
    "        loss = criterion(scores, targets)\r\n",
    "\r\n",
    "        # backward\r\n",
    "        optimizer.zero_grad()\r\n",
    "        loss.backward()\r\n",
    "\r\n",
    "        # gradient descent or adam step\r\n",
    "        optimizer.step()\r\n",
    "\r\n",
    "# Check accuracy on training & test to see how good our model\r\n",
    "def check_accuracy(loader, model):\r\n",
    "    num_correct = 0\r\n",
    "    num_samples = 0\r\n",
    "    model.eval()\r\n",
    "\r\n",
    "    with torch.no_grad():\r\n",
    "        for x, y in loader:\r\n",
    "            x = x.to(device=device).squeeze(1)\r\n",
    "            y = y.to(device=device)\r\n",
    "\r\n",
    "            scores = model(x)\r\n",
    "            _, predictions = scores.max(1)\r\n",
    "            num_correct += (predictions == y).sum()\r\n",
    "            num_samples += predictions.size(0)\r\n",
    "\r\n",
    "\r\n",
    "    model.train()\r\n",
    "    return num_correct/num_samples\r\n",
    "\r\n",
    "\r\n",
    "print(f\"Accuracy on training set: {check_accuracy(train_loader, model)*100:.2f}\")\r\n",
    "print(f\"Accuracy on test set: {check_accuracy(test_loader, model)*100:.2f}\")"
   ],
   "outputs": [
    {
     "output_type": "stream",
     "name": "stderr",
     "text": [
      "100%|██████████| 938/938 [00:12<00:00, 73.47it/s]\n",
      "100%|██████████| 938/938 [00:11<00:00, 81.23it/s]\n",
      "100%|██████████| 938/938 [00:10<00:00, 87.86it/s]\n"
     ]
    },
    {
     "output_type": "stream",
     "name": "stdout",
     "text": [
      "Accuracy on training set: 98.72\n",
      "Accuracy on test set: 98.27\n"
     ]
    }
   ],
   "metadata": {}
  }
 ],
 "metadata": {
  "orig_nbformat": 4,
  "language_info": {
   "name": "python",
   "version": "3.8.8",
   "mimetype": "text/x-python",
   "codemirror_mode": {
    "name": "ipython",
    "version": 3
   },
   "pygments_lexer": "ipython3",
   "nbconvert_exporter": "python",
   "file_extension": ".py"
  },
  "kernelspec": {
   "name": "python3",
   "display_name": "Python 3.8.8 64-bit ('base': conda)"
  },
  "interpreter": {
   "hash": "75a30548fdf3dbc5d56c450174bec395510dfa79d754af80d480ee316ccf8c82"
  }
 },
 "nbformat": 4,
 "nbformat_minor": 2
}